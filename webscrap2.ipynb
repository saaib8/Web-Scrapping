{
  "nbformat": 4,
  "nbformat_minor": 0,
  "metadata": {
    "colab": {
      "provenance": []
    },
    "kernelspec": {
      "name": "python3",
      "display_name": "Python 3"
    },
    "language_info": {
      "name": "python"
    }
  },
  "cells": [
    {
      "cell_type": "code",
      "execution_count": null,
      "metadata": {
        "id": "da4yIBmSnJtL"
      },
      "outputs": [],
      "source": [
        "from bs4 import BeautifulSoup\n",
        "import requests\n"
      ]
    },
    {
      "cell_type": "code",
      "source": [
        "url = 'https://en.wikipedia.org/wiki/List_of_largest_companies_in_the_United_States_by_revenue'\n",
        "page = requests.get(url)\n",
        "soup = BeautifulSoup(page.text,'html5lib')"
      ],
      "metadata": {
        "id": "wdtqhGR6nRd7"
      },
      "execution_count": null,
      "outputs": []
    },
    {
      "cell_type": "code",
      "source": [
        "#print(soup.prettify())"
      ],
      "metadata": {
        "id": "gLWzTTpZnWys"
      },
      "execution_count": null,
      "outputs": []
    },
    {
      "cell_type": "code",
      "source": [
        "#soup.find_all('table')"
      ],
      "metadata": {
        "id": "utNDAYL4sd66"
      },
      "execution_count": null,
      "outputs": []
    },
    {
      "cell_type": "code",
      "source": [
        "#soup.find_all('table')[0]"
      ],
      "metadata": {
        "id": "Es8-kucbsd4Z"
      },
      "execution_count": null,
      "outputs": []
    },
    {
      "cell_type": "code",
      "source": [
        "#soup.find_all('table')[1]"
      ],
      "metadata": {
        "id": "2SdKD-B3sd1s"
      },
      "execution_count": null,
      "outputs": []
    },
    {
      "cell_type": "code",
      "source": [
        "#another way to get table"
      ],
      "metadata": {
        "id": "qCU8Vmr2sdzN"
      },
      "execution_count": null,
      "outputs": []
    },
    {
      "cell_type": "code",
      "source": [
        "table = soup.find('table',class_='wikitable sortable')"
      ],
      "metadata": {
        "id": "mCYBYirksdwn"
      },
      "execution_count": null,
      "outputs": []
    },
    {
      "cell_type": "code",
      "source": [
        "world_titles = table.find_all('th')\n",
        "print(world_titles)"
      ],
      "metadata": {
        "id": "jDrtRdfysdtc",
        "colab": {
          "base_uri": "https://localhost:8080/"
        },
        "outputId": "d4f906d2-e68a-4d3a-ad5e-ff81a76bce7b"
      },
      "execution_count": null,
      "outputs": [
        {
          "output_type": "stream",
          "name": "stdout",
          "text": [
            "[<th>Rank\n",
            "</th>, <th>Name\n",
            "</th>, <th>Industry\n",
            "</th>, <th>Revenue <br/>(USD millions)\n",
            "</th>, <th>Revenue growth\n",
            "</th>, <th>Employees\n",
            "</th>, <th>Headquarters\n",
            "</th>]\n"
          ]
        }
      ]
    },
    {
      "cell_type": "code",
      "source": [
        "text_world_titles = [title.text.strip() for title in world_titles]\n",
        "print(text_world_titles)"
      ],
      "metadata": {
        "id": "GXU2L16NsdX0",
        "colab": {
          "base_uri": "https://localhost:8080/"
        },
        "outputId": "03168ac3-ccaf-4701-e85d-29de4e444d5b"
      },
      "execution_count": null,
      "outputs": [
        {
          "output_type": "stream",
          "name": "stdout",
          "text": [
            "['Rank', 'Name', 'Industry', 'Revenue (USD millions)', 'Revenue growth', 'Employees', 'Headquarters']\n"
          ]
        }
      ]
    },
    {
      "cell_type": "code",
      "source": [
        "\n"
      ],
      "metadata": {
        "colab": {
          "base_uri": "https://localhost:8080/"
        },
        "id": "FDca2F1uJWvq",
        "outputId": "9757dcb1-8c84-4078-a0ea-3e1a9bc62be2",
        "collapsed": true
      },
      "execution_count": null,
      "outputs": [
        {
          "output_type": "stream",
          "name": "stdout",
          "text": [
            "['1', 'Walmart', 'Retail', '611,289', '6.7%', '2,100,000', 'Bentonville, Arkansas']\n",
            "['2', 'Amazon', 'Retail and cloud computing', '513,983', '9.4%', '1,540,000', 'Seattle, Washington']\n",
            "['3', 'ExxonMobil', 'Petroleum industry', '413,680', '44.8%', '62,000', 'Spring, Texas']\n",
            "['4', 'Apple', 'Electronics industry', '394,328', '7.8%', '164,000', 'Cupertino, California']\n",
            "['5', 'UnitedHealth Group', 'Healthcare', '324,162', '12.7%', '400,000', 'Minnetonka, Minnesota']\n",
            "['6', 'CVS Health', 'Healthcare', '322,467', '10.4%', '259,500', 'Woonsocket, Rhode Island']\n",
            "['7', 'Berkshire Hathaway', 'Conglomerate', '302,089', '9.4%', '383,000', 'Omaha, Nebraska']\n",
            "['8', 'Alphabet', 'Technology and cloud computing', '282,836', '9.8%', '156,000', 'Mountain View, California']\n",
            "['9', 'McKesson Corporation', 'Health', '276,711', '4.8%', '48,500', 'Irving, Texas']\n",
            "['10', 'Chevron Corporation', 'Petroleum industry', '246,252', '51.6%', '43,846', 'San Ramon, California']\n",
            "['11', 'AmerisourceBergen', 'Pharmaceutical industry', '238,587', '11.5%', '41,500', 'Chesterbrook, Pennsylvania']\n",
            "['12', 'Costco', 'Retail', '226,954', '15.8%', '304,000', 'Issaquah, Washington']\n",
            "['13', 'Microsoft', 'Technology and cloud computing', '198,270', '18.0%', '221,000', 'Redmond, Washington']\n",
            "['14', 'Cardinal Health', 'Healthcare', '181,364', '11.6%', '46,035', 'Dublin, Ohio']\n",
            "['15', 'Cigna', 'Health insurance', '180,516', '3.7%', '70,231', 'Bloomfield, Connecticut']\n",
            "['16', 'Marathon Petroleum', 'Petroleum industry', '180,012', '27.6%', '17,800', 'Findlay, Ohio']\n",
            "['17', 'Phillips 66', 'Petroleum industry', '175,702', '53.0%', '13,000', 'Houston, Texas']\n",
            "['18', 'Valero Energy', 'Petroleum industry', '171,189', '58.0%', '9,743', 'San Antonio, Texas']\n",
            "['19', 'Ford Motor Company', 'Automotive industry', '158,057', '15.9%', '173,000', 'Dearborn, Michigan']\n",
            "['20', 'The Home Depot', 'Retail', '157,403', '4.1%', '471,600', 'Atlanta, Georgia']\n",
            "['21', 'General Motors', 'Automotive industry', '156,735', '23.4%', '167,000', 'Detroit, Michigan']\n",
            "['22', 'Elevance Health', 'Healthcare', '156,595', '13.0%', '102,200', 'Indianapolis, Indiana']\n",
            "['23', 'JPMorgan Chase', 'Financial services', '154,792', '21.7%', '293,723', 'New York City, New York']\n",
            "['24', 'Kroger', 'Retail', '148,258', '7.5%', '430,000', 'Cincinnati, Ohio']\n",
            "['25', 'Centene', 'Healthcare', '144,547', '14.7%', '74,300', 'St. Louis, Missouri']\n",
            "['26', 'Verizon Communications', 'Telecommunications', '136,835', '2.4%', '117,100', 'New York City, New York']\n",
            "['27', 'Walgreens Boots Alliance', 'Pharmaceutical industry', '132,703', '10.7%', '262,500', 'Deerfield, Illinois']\n",
            "['28', 'Fannie Mae', 'Financials', '121,596', '19.7%', '8,000', 'Washington, D.C.']\n",
            "['29', 'Comcast', 'Telecommunications', '121,427', '4.3%', '186,000', 'Philadelphia, Pennsylvania']\n",
            "['30', 'AT&T', 'Conglomerate and telecomunications', '120,741', '28.5%', '160,700', 'Dallas, Texas']\n",
            "['31', 'Meta Platforms', 'Technology', '116,609', '1.1%', '86,482', 'Menlo Park, California']\n",
            "['32', 'Bank of America', 'Financials', '115,053', '22.6%', '216,823', 'Charlotte, North Carolina']\n",
            "['33', 'Target Corporation', 'Retail', '109,120', '2.9%', '440,000', 'Minneapolis, Minnesota']\n",
            "['34', 'Dell Technologies', 'Technology', '102,301', '4.4%', '133,000', 'Round Rock, Texas']\n",
            "['35', 'Archer Daniels Midland', 'Food industry', '101,556', '19.1%', '41,181', 'Chicago, Illinois']\n",
            "['36', 'Citigroup', 'Financials', '101,078', '26.6%', '238,104', 'New York City, New York']\n",
            "['37', 'United Parcel Service', 'Transportation', '100,338', '3.1%', '404,700', 'Atlanta, Georgia']\n",
            "['38', 'Pfizer', 'Pharmaceutical industry', '100,330', '23.4%', '83,000', 'New York City, New York']\n",
            "['39', \"Lowe's\", 'Retail', '97,059', '0.8%', '244,500', 'Mooresville, North Carolina']\n",
            "['40', 'Johnson & Johnson', 'Pharmaceutical industry', '94,943', '1.2%', '152,700', 'New Brunswick, New Jersey']\n",
            "['41', 'FedEx', 'Transportation', '93,512', '11.4%', '518,249', 'Memphis, Tennessee']\n",
            "['42', 'Humana', 'Health insurance', '92,870', '11.8%', '67,100', 'Louisville, Kentucky']\n",
            "['43', 'Energy Transfer Partners', 'Petroleum industry', '89,876', '33.3%', '12,565', 'Dallas, Texas']\n",
            "['44', 'State Farm', 'Financials', '89,328', '8.6%', '60,519', 'Bloomington, Illinois']\n",
            "['45', 'Freddie Mac', 'Financials', '86,717', '31.6%', '7,819', 'McLean, Virginia']\n",
            "['46', 'PepsiCo', 'Beverage', '86,859', '8.7%', '315,000', 'Purchase, New York']\n",
            "['47', 'Wells Fargo', 'Financials', '82,859', '0.5%', '238,000', 'San Francisco, California']\n",
            "['48', 'The Walt Disney Company', 'Media', '82,722', '22.7%', '195,800', 'Burbank, California']\n",
            "['49', 'ConocoPhillips', 'Petroleum industry', '82,156', '69.9%', '9,500', 'Houston, Texas']\n",
            "['50', 'Tesla', 'Automotive and energy', '81,462', '51.4%', '127,855', 'Austin, Texas']\n",
            "['51', 'Procter & Gamble', 'Consumer products manufacturing', '80,187', '5.3%', '106,000', 'Cincinnati, Ohio']\n",
            "['52', 'United States Postal Service', 'Logistics', '78,620', '2.0%', '576,000', 'Washington, D.C.']\n",
            "['53', 'Albertsons', 'Retail', '77,650', '8.0%', '198,650', 'Boise, Idaho']\n",
            "['54', 'General Electric', 'Conglomerate', '76,555', '3.2%', '172,000', 'Boston, Massachusetts']\n",
            "['55', 'MetLife', 'Financials', '69,898', '1.7%', '45,000', 'New York City, New York']\n",
            "['56', 'Goldman Sachs', 'Financials', '68,711', '5.7%', '48,500', 'New York City, New York']\n",
            "['57', 'Sysco', 'Food service', '68,636', '33.8%', '70,510', 'Houston, Texas']\n",
            "['58', 'Bunge Limited', 'Food industry', '67,232', '13.7%', '23,000', 'White Plains, New York']\n",
            "['59', 'RTX Corporation', 'Conglomerate', '67,074', '4.2%', '182,000', 'Arlington County, Virginia']\n",
            "['60', 'Boeing', 'Aerospace and defense', '66,608', '6.9%', '156,000', 'Arlington County, Virginia']\n",
            "['61', 'StoneX Group', 'Financials', '66,036', '55.3%', '305', 'New York City, New York']\n",
            "['62', 'Lockheed Martin', 'Aerospace and defense', '65,984', '1.6%', '116,000', 'Bethesda, Maryland']\n",
            "['63', 'Morgan Stanley', 'Financials', '65,936', '7.9%', '82,427', 'New York City, New York']\n",
            "['64', 'Intel', 'Technology', '63,054', '20.1%', '131,900', 'Santa Clara, California']\n",
            "['65', 'HP', 'Technology', '62,983', '0.8%', '58,000', 'Palo Alto, California']\n",
            "['66', 'TD Synnex', 'Infotech', '62,344', '97.2%', '28,500', 'Clearwater, Florida']\n",
            "['67', 'IBM', 'Technology and cloud computing', '60,530', '16.3%', '303,100', 'Armonk, New York']\n",
            "['68', 'HCA Healthcare', 'Healthcare', '60,233', '2.5%', '250,500', 'Nashville, Tennessee']\n",
            "['69', 'Prudential Financial', 'Financials', '60,050', '15.3%', '39,583', 'Newark, New Jersey']\n",
            "['70', 'Caterpillar', 'Machinery', '59,427', '16.6%', '109,100', 'Deerfield, Illinois']\n",
            "['71', 'Merck & Co.', 'Pharmaceutical industry', '59,283', '15.8%', '68,000', 'Kenilworth, New Jersey']\n",
            "['72', 'World Fuel Services', 'Petroleum industry and logistics', '59,043', '88.4%', '5,214', 'Miami, Florida']\n",
            "['73', 'New York Life Insurance Company', 'Insurance', '58,445', '14.2%', '15,050', 'New York City, New York']\n",
            "['74', 'Enterprise Products', 'Petroleum industry', '58,186', '42.6%', '7,300', 'Houston, Texas']\n",
            "['75', 'AbbVie', 'Pharmaceutical industry', '58,054', '3.3%', '50,000', 'Lake Bluff, Illinois']\n",
            "['76', 'Plains All American Pipeline', 'Petroleum industry', '57,342', '36.3%', '4,100', 'Houston, Texas']\n",
            "['77', 'Dow Chemical Company', 'Chemical industry', '56,902', '3.5%', '37,800', 'Midland, Michigan']\n",
            "['78', 'AIG', 'Insurance', '56,437', '8.4%', '26,200', 'New York City, New York']\n",
            "['79', 'American Express', 'Financial', '55,625', '27.3%', '77,300', 'New York City, New York']\n",
            "['80', 'Publix', 'Retail', '54,942', '13.5%', '242,000', 'Lakeland, Florida']\n",
            "['81', 'Charter Communications', 'Telecommunications', '54,022', '4.5%', '101,700', 'Stamford, Connecticut']\n",
            "['82', 'Tyson Foods', 'Food processing', '53,282', '13.2%', '142,000', 'Springdale, Arkansas']\n",
            "['83', 'John Deere', 'Agriculture manufacturing', '52,577', '19.4%', '82,239', 'Moline, Illinois']\n",
            "['84', 'Cisco', 'Telecom hardware manufacturing', '51,557', '3.5%', '83,300', 'San Jose, California']\n",
            "['85', 'Nationwide Mutual Insurance Company', 'Financial', '51,450', '8.6%', '24,791', 'Columbus, Ohio']\n",
            "['86', 'Allstate', 'Insurance', '51,412', '3.4%', '54,250', 'Northfield Township, Cook County, Illinois']\n",
            "['87', 'Delta Air Lines', 'Airline', '50,582', '69.2%', '95,000', 'Atlanta, Georgia']\n",
            "['88', 'Liberty Mutual', 'Insurance', '49,956', '3.6%', '50,000', 'Boston, Massachusetts']\n",
            "['89', 'TJX', 'Retail', '49,936', '2.9%', '329,000', 'Framingham, Massachusetts']\n",
            "['90', 'Progressive Corporation', 'Insurance', '49,611', '4.0%', '55,063', 'Mayfield Village, Ohio']\n",
            "['91', 'American Airlines', 'Airline', '48,971', '63.9%', '129,700', 'Fort Worth, Texas']\n",
            "['92', 'CHS', 'Agriculture cooperative', '47,194', '24.3%', '10,014', 'Inver Grove Heights, Minnesota']\n",
            "['93', 'Performance Food Group', 'Food processing', '47,194', '61.6%', '34,825', 'Richmond, Virginia']\n",
            "['94', 'PBF Energy', 'Petroleum industry', '46,830', '71.8%', '3,616', 'Parsippany–Troy Hills, New Jersey']\n",
            "['95', 'Nike', 'Apparel', '46,710', '4.9%', '79,100', 'Beaverton, Oregon']\n",
            "['96', 'Best Buy', 'Retail', '46,298', '10.6%', '71,100', 'Richfield, Minnesota']\n",
            "['97', 'Bristol-Myers Squibb', 'Pharmaceutical industry', '46,159', '0.5%', '34,300', 'New York City, New York']\n",
            "['98', 'United Airlines', 'Airline', '44,955', '82.5%', '92,795', 'Chicago, Illinois']\n",
            "['99', 'Thermo Fisher Scientific', 'Laboratory instruments', '44,915', '14.5%', '130,000', 'Waltham, Massachusetts']\n",
            "['100', 'Qualcomm', 'Technology', '44,200', '31.7%', '51,000', 'San Diego, California']\n"
          ]
        }
      ]
    },
    {
      "cell_type": "code",
      "source": [
        "import pandas as pd"
      ],
      "metadata": {
        "id": "XLlCChuKJWsT"
      },
      "execution_count": null,
      "outputs": []
    },
    {
      "cell_type": "code",
      "source": [
        "df = pd.DataFrame(columns = text_world_titles)\n",
        "len(df)"
      ],
      "metadata": {
        "colab": {
          "base_uri": "https://localhost:8080/"
        },
        "id": "vpnq9URYJWmo",
        "outputId": "e1c9875c-b59a-43e0-de9e-0f92f26bb440"
      },
      "execution_count": null,
      "outputs": [
        {
          "output_type": "execute_result",
          "data": {
            "text/plain": [
              "0"
            ]
          },
          "metadata": {},
          "execution_count": 31
        }
      ]
    },
    {
      "cell_type": "code",
      "source": [
        "coloumn_data = table.find_all('tr')\n",
        "for row in coloumn_data[1:]:\n",
        "  row_data = row.find_all('td')\n",
        "  individual_row_data = [data.text.strip() for data in row_data]\n",
        "  length = len(df)\n",
        "  df.loc[length] = individual_row_data"
      ],
      "metadata": {
        "id": "Vt2W5HBPJWWm"
      },
      "execution_count": null,
      "outputs": []
    },
    {
      "cell_type": "code",
      "source": [
        "df"
      ],
      "metadata": {
        "colab": {
          "base_uri": "https://localhost:8080/",
          "height": 423
        },
        "id": "73ThY-aR1VV3",
        "outputId": "103eb2b3-6d23-442d-ea0c-ef827c4ee1f6"
      },
      "execution_count": null,
      "outputs": [
        {
          "output_type": "execute_result",
          "data": {
            "text/plain": [
              "   Rank                      Name                    Industry  \\\n",
              "0     1                   Walmart                      Retail   \n",
              "1     2                    Amazon  Retail and cloud computing   \n",
              "2     3                ExxonMobil          Petroleum industry   \n",
              "3     4                     Apple        Electronics industry   \n",
              "4     5        UnitedHealth Group                  Healthcare   \n",
              "..  ...                       ...                         ...   \n",
              "95   96                  Best Buy                      Retail   \n",
              "96   97      Bristol-Myers Squibb     Pharmaceutical industry   \n",
              "97   98           United Airlines                     Airline   \n",
              "98   99  Thermo Fisher Scientific      Laboratory instruments   \n",
              "99  100                  Qualcomm                  Technology   \n",
              "\n",
              "   Revenue (USD millions) Revenue growth  Employees             Headquarters  \n",
              "0                 611,289           6.7%  2,100,000    Bentonville, Arkansas  \n",
              "1                 513,983           9.4%  1,540,000      Seattle, Washington  \n",
              "2                 413,680          44.8%     62,000            Spring, Texas  \n",
              "3                 394,328           7.8%    164,000    Cupertino, California  \n",
              "4                 324,162          12.7%    400,000    Minnetonka, Minnesota  \n",
              "..                    ...            ...        ...                      ...  \n",
              "95                 46,298          10.6%     71,100     Richfield, Minnesota  \n",
              "96                 46,159           0.5%     34,300  New York City, New York  \n",
              "97                 44,955          82.5%     92,795        Chicago, Illinois  \n",
              "98                 44,915          14.5%    130,000   Waltham, Massachusetts  \n",
              "99                 44,200          31.7%     51,000    San Diego, California  \n",
              "\n",
              "[100 rows x 7 columns]"
            ],
            "text/html": [
              "\n",
              "  <div id=\"df-5682caef-3a2b-4a6e-ac42-76e749b32c9f\" class=\"colab-df-container\">\n",
              "    <div>\n",
              "<style scoped>\n",
              "    .dataframe tbody tr th:only-of-type {\n",
              "        vertical-align: middle;\n",
              "    }\n",
              "\n",
              "    .dataframe tbody tr th {\n",
              "        vertical-align: top;\n",
              "    }\n",
              "\n",
              "    .dataframe thead th {\n",
              "        text-align: right;\n",
              "    }\n",
              "</style>\n",
              "<table border=\"1\" class=\"dataframe\">\n",
              "  <thead>\n",
              "    <tr style=\"text-align: right;\">\n",
              "      <th></th>\n",
              "      <th>Rank</th>\n",
              "      <th>Name</th>\n",
              "      <th>Industry</th>\n",
              "      <th>Revenue (USD millions)</th>\n",
              "      <th>Revenue growth</th>\n",
              "      <th>Employees</th>\n",
              "      <th>Headquarters</th>\n",
              "    </tr>\n",
              "  </thead>\n",
              "  <tbody>\n",
              "    <tr>\n",
              "      <th>0</th>\n",
              "      <td>1</td>\n",
              "      <td>Walmart</td>\n",
              "      <td>Retail</td>\n",
              "      <td>611,289</td>\n",
              "      <td>6.7%</td>\n",
              "      <td>2,100,000</td>\n",
              "      <td>Bentonville, Arkansas</td>\n",
              "    </tr>\n",
              "    <tr>\n",
              "      <th>1</th>\n",
              "      <td>2</td>\n",
              "      <td>Amazon</td>\n",
              "      <td>Retail and cloud computing</td>\n",
              "      <td>513,983</td>\n",
              "      <td>9.4%</td>\n",
              "      <td>1,540,000</td>\n",
              "      <td>Seattle, Washington</td>\n",
              "    </tr>\n",
              "    <tr>\n",
              "      <th>2</th>\n",
              "      <td>3</td>\n",
              "      <td>ExxonMobil</td>\n",
              "      <td>Petroleum industry</td>\n",
              "      <td>413,680</td>\n",
              "      <td>44.8%</td>\n",
              "      <td>62,000</td>\n",
              "      <td>Spring, Texas</td>\n",
              "    </tr>\n",
              "    <tr>\n",
              "      <th>3</th>\n",
              "      <td>4</td>\n",
              "      <td>Apple</td>\n",
              "      <td>Electronics industry</td>\n",
              "      <td>394,328</td>\n",
              "      <td>7.8%</td>\n",
              "      <td>164,000</td>\n",
              "      <td>Cupertino, California</td>\n",
              "    </tr>\n",
              "    <tr>\n",
              "      <th>4</th>\n",
              "      <td>5</td>\n",
              "      <td>UnitedHealth Group</td>\n",
              "      <td>Healthcare</td>\n",
              "      <td>324,162</td>\n",
              "      <td>12.7%</td>\n",
              "      <td>400,000</td>\n",
              "      <td>Minnetonka, Minnesota</td>\n",
              "    </tr>\n",
              "    <tr>\n",
              "      <th>...</th>\n",
              "      <td>...</td>\n",
              "      <td>...</td>\n",
              "      <td>...</td>\n",
              "      <td>...</td>\n",
              "      <td>...</td>\n",
              "      <td>...</td>\n",
              "      <td>...</td>\n",
              "    </tr>\n",
              "    <tr>\n",
              "      <th>95</th>\n",
              "      <td>96</td>\n",
              "      <td>Best Buy</td>\n",
              "      <td>Retail</td>\n",
              "      <td>46,298</td>\n",
              "      <td>10.6%</td>\n",
              "      <td>71,100</td>\n",
              "      <td>Richfield, Minnesota</td>\n",
              "    </tr>\n",
              "    <tr>\n",
              "      <th>96</th>\n",
              "      <td>97</td>\n",
              "      <td>Bristol-Myers Squibb</td>\n",
              "      <td>Pharmaceutical industry</td>\n",
              "      <td>46,159</td>\n",
              "      <td>0.5%</td>\n",
              "      <td>34,300</td>\n",
              "      <td>New York City, New York</td>\n",
              "    </tr>\n",
              "    <tr>\n",
              "      <th>97</th>\n",
              "      <td>98</td>\n",
              "      <td>United Airlines</td>\n",
              "      <td>Airline</td>\n",
              "      <td>44,955</td>\n",
              "      <td>82.5%</td>\n",
              "      <td>92,795</td>\n",
              "      <td>Chicago, Illinois</td>\n",
              "    </tr>\n",
              "    <tr>\n",
              "      <th>98</th>\n",
              "      <td>99</td>\n",
              "      <td>Thermo Fisher Scientific</td>\n",
              "      <td>Laboratory instruments</td>\n",
              "      <td>44,915</td>\n",
              "      <td>14.5%</td>\n",
              "      <td>130,000</td>\n",
              "      <td>Waltham, Massachusetts</td>\n",
              "    </tr>\n",
              "    <tr>\n",
              "      <th>99</th>\n",
              "      <td>100</td>\n",
              "      <td>Qualcomm</td>\n",
              "      <td>Technology</td>\n",
              "      <td>44,200</td>\n",
              "      <td>31.7%</td>\n",
              "      <td>51,000</td>\n",
              "      <td>San Diego, California</td>\n",
              "    </tr>\n",
              "  </tbody>\n",
              "</table>\n",
              "<p>100 rows × 7 columns</p>\n",
              "</div>\n",
              "    <div class=\"colab-df-buttons\">\n",
              "\n",
              "  <div class=\"colab-df-container\">\n",
              "    <button class=\"colab-df-convert\" onclick=\"convertToInteractive('df-5682caef-3a2b-4a6e-ac42-76e749b32c9f')\"\n",
              "            title=\"Convert this dataframe to an interactive table.\"\n",
              "            style=\"display:none;\">\n",
              "\n",
              "  <svg xmlns=\"http://www.w3.org/2000/svg\" height=\"24px\" viewBox=\"0 -960 960 960\">\n",
              "    <path d=\"M120-120v-720h720v720H120Zm60-500h600v-160H180v160Zm220 220h160v-160H400v160Zm0 220h160v-160H400v160ZM180-400h160v-160H180v160Zm440 0h160v-160H620v160ZM180-180h160v-160H180v160Zm440 0h160v-160H620v160Z\"/>\n",
              "  </svg>\n",
              "    </button>\n",
              "\n",
              "  <style>\n",
              "    .colab-df-container {\n",
              "      display:flex;\n",
              "      gap: 12px;\n",
              "    }\n",
              "\n",
              "    .colab-df-convert {\n",
              "      background-color: #E8F0FE;\n",
              "      border: none;\n",
              "      border-radius: 50%;\n",
              "      cursor: pointer;\n",
              "      display: none;\n",
              "      fill: #1967D2;\n",
              "      height: 32px;\n",
              "      padding: 0 0 0 0;\n",
              "      width: 32px;\n",
              "    }\n",
              "\n",
              "    .colab-df-convert:hover {\n",
              "      background-color: #E2EBFA;\n",
              "      box-shadow: 0px 1px 2px rgba(60, 64, 67, 0.3), 0px 1px 3px 1px rgba(60, 64, 67, 0.15);\n",
              "      fill: #174EA6;\n",
              "    }\n",
              "\n",
              "    .colab-df-buttons div {\n",
              "      margin-bottom: 4px;\n",
              "    }\n",
              "\n",
              "    [theme=dark] .colab-df-convert {\n",
              "      background-color: #3B4455;\n",
              "      fill: #D2E3FC;\n",
              "    }\n",
              "\n",
              "    [theme=dark] .colab-df-convert:hover {\n",
              "      background-color: #434B5C;\n",
              "      box-shadow: 0px 1px 3px 1px rgba(0, 0, 0, 0.15);\n",
              "      filter: drop-shadow(0px 1px 2px rgba(0, 0, 0, 0.3));\n",
              "      fill: #FFFFFF;\n",
              "    }\n",
              "  </style>\n",
              "\n",
              "    <script>\n",
              "      const buttonEl =\n",
              "        document.querySelector('#df-5682caef-3a2b-4a6e-ac42-76e749b32c9f button.colab-df-convert');\n",
              "      buttonEl.style.display =\n",
              "        google.colab.kernel.accessAllowed ? 'block' : 'none';\n",
              "\n",
              "      async function convertToInteractive(key) {\n",
              "        const element = document.querySelector('#df-5682caef-3a2b-4a6e-ac42-76e749b32c9f');\n",
              "        const dataTable =\n",
              "          await google.colab.kernel.invokeFunction('convertToInteractive',\n",
              "                                                    [key], {});\n",
              "        if (!dataTable) return;\n",
              "\n",
              "        const docLinkHtml = 'Like what you see? Visit the ' +\n",
              "          '<a target=\"_blank\" href=https://colab.research.google.com/notebooks/data_table.ipynb>data table notebook</a>'\n",
              "          + ' to learn more about interactive tables.';\n",
              "        element.innerHTML = '';\n",
              "        dataTable['output_type'] = 'display_data';\n",
              "        await google.colab.output.renderOutput(dataTable, element);\n",
              "        const docLink = document.createElement('div');\n",
              "        docLink.innerHTML = docLinkHtml;\n",
              "        element.appendChild(docLink);\n",
              "      }\n",
              "    </script>\n",
              "  </div>\n",
              "\n",
              "\n",
              "<div id=\"df-8664774d-7a29-4436-b600-ba4e5dc6ec18\">\n",
              "  <button class=\"colab-df-quickchart\" onclick=\"quickchart('df-8664774d-7a29-4436-b600-ba4e5dc6ec18')\"\n",
              "            title=\"Suggest charts\"\n",
              "            style=\"display:none;\">\n",
              "\n",
              "<svg xmlns=\"http://www.w3.org/2000/svg\" height=\"24px\"viewBox=\"0 0 24 24\"\n",
              "     width=\"24px\">\n",
              "    <g>\n",
              "        <path d=\"M19 3H5c-1.1 0-2 .9-2 2v14c0 1.1.9 2 2 2h14c1.1 0 2-.9 2-2V5c0-1.1-.9-2-2-2zM9 17H7v-7h2v7zm4 0h-2V7h2v10zm4 0h-2v-4h2v4z\"/>\n",
              "    </g>\n",
              "</svg>\n",
              "  </button>\n",
              "\n",
              "<style>\n",
              "  .colab-df-quickchart {\n",
              "      --bg-color: #E8F0FE;\n",
              "      --fill-color: #1967D2;\n",
              "      --hover-bg-color: #E2EBFA;\n",
              "      --hover-fill-color: #174EA6;\n",
              "      --disabled-fill-color: #AAA;\n",
              "      --disabled-bg-color: #DDD;\n",
              "  }\n",
              "\n",
              "  [theme=dark] .colab-df-quickchart {\n",
              "      --bg-color: #3B4455;\n",
              "      --fill-color: #D2E3FC;\n",
              "      --hover-bg-color: #434B5C;\n",
              "      --hover-fill-color: #FFFFFF;\n",
              "      --disabled-bg-color: #3B4455;\n",
              "      --disabled-fill-color: #666;\n",
              "  }\n",
              "\n",
              "  .colab-df-quickchart {\n",
              "    background-color: var(--bg-color);\n",
              "    border: none;\n",
              "    border-radius: 50%;\n",
              "    cursor: pointer;\n",
              "    display: none;\n",
              "    fill: var(--fill-color);\n",
              "    height: 32px;\n",
              "    padding: 0;\n",
              "    width: 32px;\n",
              "  }\n",
              "\n",
              "  .colab-df-quickchart:hover {\n",
              "    background-color: var(--hover-bg-color);\n",
              "    box-shadow: 0 1px 2px rgba(60, 64, 67, 0.3), 0 1px 3px 1px rgba(60, 64, 67, 0.15);\n",
              "    fill: var(--button-hover-fill-color);\n",
              "  }\n",
              "\n",
              "  .colab-df-quickchart-complete:disabled,\n",
              "  .colab-df-quickchart-complete:disabled:hover {\n",
              "    background-color: var(--disabled-bg-color);\n",
              "    fill: var(--disabled-fill-color);\n",
              "    box-shadow: none;\n",
              "  }\n",
              "\n",
              "  .colab-df-spinner {\n",
              "    border: 2px solid var(--fill-color);\n",
              "    border-color: transparent;\n",
              "    border-bottom-color: var(--fill-color);\n",
              "    animation:\n",
              "      spin 1s steps(1) infinite;\n",
              "  }\n",
              "\n",
              "  @keyframes spin {\n",
              "    0% {\n",
              "      border-color: transparent;\n",
              "      border-bottom-color: var(--fill-color);\n",
              "      border-left-color: var(--fill-color);\n",
              "    }\n",
              "    20% {\n",
              "      border-color: transparent;\n",
              "      border-left-color: var(--fill-color);\n",
              "      border-top-color: var(--fill-color);\n",
              "    }\n",
              "    30% {\n",
              "      border-color: transparent;\n",
              "      border-left-color: var(--fill-color);\n",
              "      border-top-color: var(--fill-color);\n",
              "      border-right-color: var(--fill-color);\n",
              "    }\n",
              "    40% {\n",
              "      border-color: transparent;\n",
              "      border-right-color: var(--fill-color);\n",
              "      border-top-color: var(--fill-color);\n",
              "    }\n",
              "    60% {\n",
              "      border-color: transparent;\n",
              "      border-right-color: var(--fill-color);\n",
              "    }\n",
              "    80% {\n",
              "      border-color: transparent;\n",
              "      border-right-color: var(--fill-color);\n",
              "      border-bottom-color: var(--fill-color);\n",
              "    }\n",
              "    90% {\n",
              "      border-color: transparent;\n",
              "      border-bottom-color: var(--fill-color);\n",
              "    }\n",
              "  }\n",
              "</style>\n",
              "\n",
              "  <script>\n",
              "    async function quickchart(key) {\n",
              "      const quickchartButtonEl =\n",
              "        document.querySelector('#' + key + ' button');\n",
              "      quickchartButtonEl.disabled = true;  // To prevent multiple clicks.\n",
              "      quickchartButtonEl.classList.add('colab-df-spinner');\n",
              "      try {\n",
              "        const charts = await google.colab.kernel.invokeFunction(\n",
              "            'suggestCharts', [key], {});\n",
              "      } catch (error) {\n",
              "        console.error('Error during call to suggestCharts:', error);\n",
              "      }\n",
              "      quickchartButtonEl.classList.remove('colab-df-spinner');\n",
              "      quickchartButtonEl.classList.add('colab-df-quickchart-complete');\n",
              "    }\n",
              "    (() => {\n",
              "      let quickchartButtonEl =\n",
              "        document.querySelector('#df-8664774d-7a29-4436-b600-ba4e5dc6ec18 button');\n",
              "      quickchartButtonEl.style.display =\n",
              "        google.colab.kernel.accessAllowed ? 'block' : 'none';\n",
              "    })();\n",
              "  </script>\n",
              "</div>\n",
              "\n",
              "  <div id=\"id_b5d90b2a-25bb-4773-a8d3-64ea742b13aa\">\n",
              "    <style>\n",
              "      .colab-df-generate {\n",
              "        background-color: #E8F0FE;\n",
              "        border: none;\n",
              "        border-radius: 50%;\n",
              "        cursor: pointer;\n",
              "        display: none;\n",
              "        fill: #1967D2;\n",
              "        height: 32px;\n",
              "        padding: 0 0 0 0;\n",
              "        width: 32px;\n",
              "      }\n",
              "\n",
              "      .colab-df-generate:hover {\n",
              "        background-color: #E2EBFA;\n",
              "        box-shadow: 0px 1px 2px rgba(60, 64, 67, 0.3), 0px 1px 3px 1px rgba(60, 64, 67, 0.15);\n",
              "        fill: #174EA6;\n",
              "      }\n",
              "\n",
              "      [theme=dark] .colab-df-generate {\n",
              "        background-color: #3B4455;\n",
              "        fill: #D2E3FC;\n",
              "      }\n",
              "\n",
              "      [theme=dark] .colab-df-generate:hover {\n",
              "        background-color: #434B5C;\n",
              "        box-shadow: 0px 1px 3px 1px rgba(0, 0, 0, 0.15);\n",
              "        filter: drop-shadow(0px 1px 2px rgba(0, 0, 0, 0.3));\n",
              "        fill: #FFFFFF;\n",
              "      }\n",
              "    </style>\n",
              "    <button class=\"colab-df-generate\" onclick=\"generateWithVariable('df')\"\n",
              "            title=\"Generate code using this dataframe.\"\n",
              "            style=\"display:none;\">\n",
              "\n",
              "  <svg xmlns=\"http://www.w3.org/2000/svg\" height=\"24px\"viewBox=\"0 0 24 24\"\n",
              "       width=\"24px\">\n",
              "    <path d=\"M7,19H8.4L18.45,9,17,7.55,7,17.6ZM5,21V16.75L18.45,3.32a2,2,0,0,1,2.83,0l1.4,1.43a1.91,1.91,0,0,1,.58,1.4,1.91,1.91,0,0,1-.58,1.4L9.25,21ZM18.45,9,17,7.55Zm-12,3A5.31,5.31,0,0,0,4.9,8.1,5.31,5.31,0,0,0,1,6.5,5.31,5.31,0,0,0,4.9,4.9,5.31,5.31,0,0,0,6.5,1,5.31,5.31,0,0,0,8.1,4.9,5.31,5.31,0,0,0,12,6.5,5.46,5.46,0,0,0,6.5,12Z\"/>\n",
              "  </svg>\n",
              "    </button>\n",
              "    <script>\n",
              "      (() => {\n",
              "      const buttonEl =\n",
              "        document.querySelector('#id_b5d90b2a-25bb-4773-a8d3-64ea742b13aa button.colab-df-generate');\n",
              "      buttonEl.style.display =\n",
              "        google.colab.kernel.accessAllowed ? 'block' : 'none';\n",
              "\n",
              "      buttonEl.onclick = () => {\n",
              "        google.colab.notebook.generateWithVariable('df');\n",
              "      }\n",
              "      })();\n",
              "    </script>\n",
              "  </div>\n",
              "\n",
              "    </div>\n",
              "  </div>\n"
            ]
          },
          "metadata": {},
          "execution_count": 33
        }
      ]
    },
    {
      "cell_type": "code",
      "source": [
        "df.to_csv('companyfile.csv',index = False)"
      ],
      "metadata": {
        "id": "yYOz1RTI1Won"
      },
      "execution_count": null,
      "outputs": []
    },
    {
      "cell_type": "code",
      "source": [
        "from google.colab import files\n",
        "files.download('companyfile.csv')"
      ],
      "metadata": {
        "colab": {
          "base_uri": "https://localhost:8080/",
          "height": 17
        },
        "id": "AymXlgHB2QM_",
        "outputId": "38bade36-0d43-48ee-8f21-f291d05a8f52"
      },
      "execution_count": null,
      "outputs": [
        {
          "output_type": "display_data",
          "data": {
            "text/plain": [
              "<IPython.core.display.Javascript object>"
            ],
            "application/javascript": [
              "\n",
              "    async function download(id, filename, size) {\n",
              "      if (!google.colab.kernel.accessAllowed) {\n",
              "        return;\n",
              "      }\n",
              "      const div = document.createElement('div');\n",
              "      const label = document.createElement('label');\n",
              "      label.textContent = `Downloading \"${filename}\": `;\n",
              "      div.appendChild(label);\n",
              "      const progress = document.createElement('progress');\n",
              "      progress.max = size;\n",
              "      div.appendChild(progress);\n",
              "      document.body.appendChild(div);\n",
              "\n",
              "      const buffers = [];\n",
              "      let downloaded = 0;\n",
              "\n",
              "      const channel = await google.colab.kernel.comms.open(id);\n",
              "      // Send a message to notify the kernel that we're ready.\n",
              "      channel.send({})\n",
              "\n",
              "      for await (const message of channel.messages) {\n",
              "        // Send a message to notify the kernel that we're ready.\n",
              "        channel.send({})\n",
              "        if (message.buffers) {\n",
              "          for (const buffer of message.buffers) {\n",
              "            buffers.push(buffer);\n",
              "            downloaded += buffer.byteLength;\n",
              "            progress.value = downloaded;\n",
              "          }\n",
              "        }\n",
              "      }\n",
              "      const blob = new Blob(buffers, {type: 'application/binary'});\n",
              "      const a = document.createElement('a');\n",
              "      a.href = window.URL.createObjectURL(blob);\n",
              "      a.download = filename;\n",
              "      div.appendChild(a);\n",
              "      a.click();\n",
              "      div.remove();\n",
              "    }\n",
              "  "
            ]
          },
          "metadata": {}
        },
        {
          "output_type": "display_data",
          "data": {
            "text/plain": [
              "<IPython.core.display.Javascript object>"
            ],
            "application/javascript": [
              "download(\"download_cc18a7c2-c8dd-4b43-a4b9-53d1335d63e6\", \"companyfile.csv\", 8032)"
            ]
          },
          "metadata": {}
        }
      ]
    },
    {
      "cell_type": "code",
      "source": [],
      "metadata": {
        "id": "WmGOgsyh86lX"
      },
      "execution_count": null,
      "outputs": []
    }
  ]
}